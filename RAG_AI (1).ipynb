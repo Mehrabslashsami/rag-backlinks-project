{
  "nbformat": 4,
  "nbformat_minor": 0,
  "metadata": {
    "colab": {
      "provenance": []
    },
    "kernelspec": {
      "name": "python3",
      "display_name": "Python 3"
    },
    "language_info": {
      "name": "python"
    }
  },
  "cells": [
    {
      "cell_type": "code",
      "source": [
        "!pip install -q langchain chromadb faiss-cpu pypdf sentence-transformers transformers ipywidgets\n"
      ],
      "metadata": {
        "id": "JgpzNQfUN7Ri"
      },
      "execution_count": null,
      "outputs": []
    },
    {
      "cell_type": "code",
      "source": [
        "import warnings\n",
        "warnings.filterwarnings(\"ignore\", category=FutureWarning)\n",
        "\n",
        "from langchain.document_loaders import PyPDFLoader\n",
        "from langchain.text_splitter import RecursiveCharacterTextSplitter\n",
        "from langchain.embeddings import HuggingFaceEmbeddings\n",
        "from langchain.vectorstores import FAISS\n",
        "from transformers import pipeline\n",
        "from google.colab import files\n",
        "from ipywidgets import widgets, Output\n",
        "from IPython.display import display\n"
      ],
      "metadata": {
        "id": "_jCjWsBHN9QB"
      },
      "execution_count": null,
      "outputs": []
    },
    {
      "cell_type": "code",
      "source": [
        "uploaded = files.upload()\n",
        "pdf_path = next(iter(uploaded))\n",
        "print(f\"Uploaded file: {pdf_path}\")\n"
      ],
      "metadata": {
        "id": "xO2BjMdzOARZ"
      },
      "execution_count": null,
      "outputs": []
    },
    {
      "cell_type": "code",
      "source": [
        "loader = PyPDFLoader(pdf_path)\n",
        "docs = loader.load()\n",
        "\n",
        "splitter = RecursiveCharacterTextSplitter(chunk_size=500, chunk_overlap=50)\n",
        "chunks = splitter.split_documents(docs)\n",
        "\n",
        "print(f\"Total chunks: {len(chunks)}\")\n"
      ],
      "metadata": {
        "id": "iN9bg1koOD6E"
      },
      "execution_count": null,
      "outputs": []
    },
    {
      "cell_type": "code",
      "source": [
        "embeddings = HuggingFaceEmbeddings(model_name=\"sentence-transformers/all-MiniLM-L6-v2\")\n",
        "vectorstore = FAISS.from_documents(chunks, embeddings)\n",
        "retriever = vectorstore.as_retriever()\n",
        "print(\"Vectorstore ready.\")\n"
      ],
      "metadata": {
        "id": "sf4nSe-uOJXp"
      },
      "execution_count": null,
      "outputs": []
    },
    {
      "cell_type": "code",
      "source": [
        "llm = pipeline(\n",
        "    \"text2text-generation\",\n",
        "    model=\"google/flan-t5-small\",\n",
        "    max_new_tokens=100,\n",
        "    do_sample=False,\n",
        ")\n",
        "print(\"LLM loaded.\")\n",
        "\n"
      ],
      "metadata": {
        "id": "QGUrOuL6OMmC"
      },
      "execution_count": null,
      "outputs": []
    },
    {
      "cell_type": "code",
      "source": [
        "def answer_query(query):\n",
        "    docs = retriever.get_relevant_documents(query)\n",
        "    for i, doc in enumerate(docs[:2]):\n",
        "        print(f\"\\n[Context {i+1}]\\n{doc.page_content[:500]}...\\n\")\n",
        "    context = \"\\n\\n\".join([d.page_content for d in docs[:3]])\n",
        "    prompt = f\"\"\"You are a precise assistant. Use the context to answer. If not found, say 'Information not found.'\n",
        "\n",
        "Context:\n",
        "{context}\n",
        "\n",
        "Question:\n",
        "{query}\n",
        "\n",
        "Answer:\"\"\"\n",
        "    return llm(prompt)[0]['generated_text'].strip()\n",
        "\n"
      ],
      "metadata": {
        "id": "szpctZ2sOQ2R"
      },
      "execution_count": null,
      "outputs": []
    },
    {
      "cell_type": "code",
      "source": [
        "out = Output()\n",
        "\n",
        "def on_ask_clicked(b):\n",
        "    with out:\n",
        "        out.clear_output()\n",
        "        question = text.value.strip()\n",
        "        if question:\n",
        "            print(f\"Q: {question}\")\n",
        "            print(\"A:\", answer_query(question))\n",
        "\n",
        "text = widgets.Text(placeholder='Type your question here')\n",
        "button = widgets.Button(description=\"Ask\")\n",
        "button.on_click(on_ask_clicked)\n",
        "\n",
        "display(text, button, out)\n"
      ],
      "metadata": {
        "id": "_ypfblEhOTcx"
      },
      "execution_count": null,
      "outputs": []
    }
  ]
}